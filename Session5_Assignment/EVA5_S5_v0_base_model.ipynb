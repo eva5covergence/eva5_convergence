{
  "nbformat": 4,
  "nbformat_minor": 0,
  "metadata": {
    "colab": {
      "name": "EVA5_S5_v0_base_model.ipynb",
      "provenance": [],
      "collapsed_sections": []
    },
    "kernelspec": {
      "name": "python3",
      "display_name": "Python 3"
    },
    "accelerator": "GPU"
  },
  "cells": [
    {
      "cell_type": "markdown",
      "metadata": {
        "id": "ZoII3OxQq9mE",
        "colab_type": "text"
      },
      "source": [
        "# Base Model - S5_v0"
      ]
    },
    {
      "cell_type": "markdown",
      "metadata": {
        "id": "po6au3XiqxUl",
        "colab_type": "text"
      },
      "source": [
        "# Target:\n",
        "\n",
        "1. Get the set-up right\n",
        "2. Set Transforms\n",
        "3. Set Data Loader\n",
        "4. Set Basic Working Code\n",
        "5. Set Basic Training  & Test Loop\n",
        "\n",
        "# Results:\n",
        "\n",
        "1. Parameters: 292164 \n",
        "2. Best Training Accuracy: 99.73\n",
        "3. Best Test Accuracy: 99.08\n",
        "\n",
        "# Analysis:\n",
        "\n",
        "1. Model is heavy as capacity is huge\n",
        "2. Model is over-fitting"
      ]
    },
    {
      "cell_type": "markdown",
      "metadata": {
        "id": "cyeLgs4RMcQq",
        "colab_type": "text"
      },
      "source": [
        "# Set the Batteries"
      ]
    },
    {
      "cell_type": "code",
      "metadata": {
        "id": "DUomWqbgE7Ni",
        "colab_type": "code",
        "colab": {}
      },
      "source": [
        "import torch\n",
        "import torch.nn as nn\n",
        "import torch.nn.functional as F\n",
        "import torch.optim as optim\n",
        "from torchsummary import summary\n",
        "from torchvision import transforms\n",
        "from torchvision.datasets import MNIST\n",
        "import warnings\n",
        "import matplotlib.pyplot as plt\n"
      ],
      "execution_count": null,
      "outputs": []
    },
    {
      "cell_type": "code",
      "metadata": {
        "id": "flHWMWc0N161",
        "colab_type": "code",
        "colab": {}
      },
      "source": [
        "warnings.filterwarnings('ignore')"
      ],
      "execution_count": null,
      "outputs": []
    },
    {
      "cell_type": "markdown",
      "metadata": {
        "id": "ZhPELvJSFhR4",
        "colab_type": "text"
      },
      "source": [
        "## Data Transformations\n",
        "\n",
        "We first start with defining our data transformations. We need to think what our data is and how can we augment it to correct represent images which it might not see otherwise. \n",
        "\n",
        "Here is the list of all the transformations which come pre-built with PyTorch\n",
        "\n",
        "1. Compose\n",
        "2. ToTensor\n",
        "3. ToPILImage\n",
        "4. Normalize\n",
        "5. Resize\n",
        "6. Scale\n",
        "7. CenterCrop\n",
        "8. Pad\n",
        "9. Lambda\n",
        "10. RandomApply\n",
        "11. RandomChoice\n",
        "12. RandomOrder\n",
        "13. RandomCrop\n",
        "14. RandomHorizontalFlip\n",
        "15. RandomVerticalFlip\n",
        "16. RandomResizedCrop\n",
        "17. RandomSizedCrop\n",
        "18. FiveCrop\n",
        "19. TenCrop\n",
        "20. LinearTransformation\n",
        "21. ColorJitter\n",
        "22. RandomRotation\n",
        "23. RandomAffine\n",
        "24. Grayscale\n",
        "25. RandomGrayscale\n",
        "26. RandomPerspective\n",
        "27. RandomErasing\n",
        "\n",
        "You can read more about them [here](https://pytorch.org/docs/stable/_modules/torchvision/transforms/transforms.html)"
      ]
    },
    {
      "cell_type": "code",
      "metadata": {
        "id": "d840WmLFFVap",
        "colab_type": "code",
        "colab": {}
      },
      "source": [
        "train_transforms = transforms.Compose([\n",
        "    transforms.ToTensor(),\n",
        "    transforms.Normalize((0.1307,), (0.3081,))\n",
        "])\n",
        "\n",
        "test_transforms = transforms.Compose([\n",
        "    transforms.ToTensor(),\n",
        "    transforms.Normalize((0.1307,), (0.3081,))\n",
        "])"
      ],
      "execution_count": null,
      "outputs": []
    },
    {
      "cell_type": "code",
      "metadata": {
        "id": "BOPM0tHTGcmw",
        "colab_type": "code",
        "colab": {}
      },
      "source": [
        "train = MNIST('./data', transform=train_transforms, download=True,train=True)\n",
        "test = MNIST('./data', transform=test_transforms, download=True, train=False)"
      ],
      "execution_count": null,
      "outputs": []
    },
    {
      "cell_type": "markdown",
      "metadata": {
        "id": "4E76-EfmKPFx",
        "colab_type": "text"
      },
      "source": [
        "# Data Loader"
      ]
    },
    {
      "cell_type": "code",
      "metadata": {
        "id": "f2nIGi1GJEVu",
        "colab_type": "code",
        "colab": {
          "base_uri": "https://localhost:8080/",
          "height": 34
        },
        "outputId": "73c2b8be-15c5-4387-bf8d-12c8fe8cfd34"
      },
      "source": [
        "SEED = 1\n",
        "batch_size = 128\n",
        "num_workers = 4\n",
        "\n",
        "\n",
        "\n",
        "cuda = torch.cuda.is_available()\n",
        "print(f\"Cuda available? {cuda}\")\n",
        "\n",
        "torch.manual_seed(SEED)# For reproducibility\n",
        "\n",
        "if cuda:\n",
        "  torch.cuda.manual_seed(SEED)# For reproducibility\n",
        "\n",
        "# dataloader arguments - something you'll fetch these from cmdprmt\n",
        "data_loader_args = dict(shuffle=True, num_workers=num_workers, pin_memory=True, batch_size=batch_size) if cuda else dict(shuffle=True,batch_size=batch_size)\n",
        "\n",
        "train_data_loader = torch.utils.data.DataLoader(train, **data_loader_args)\n",
        "\n",
        "test_data_loader = torch.utils.data.DataLoader(test, **data_loader_args)"
      ],
      "execution_count": null,
      "outputs": [
        {
          "output_type": "stream",
          "text": [
            "Cuda available? True\n"
          ],
          "name": "stdout"
        }
      ]
    },
    {
      "cell_type": "markdown",
      "metadata": {
        "id": "42gEybywMlXF",
        "colab_type": "text"
      },
      "source": [
        "# Data Statistics"
      ]
    },
    {
      "cell_type": "code",
      "metadata": {
        "id": "VMnEQZxtMFaN",
        "colab_type": "code",
        "colab": {
          "base_uri": "https://localhost:8080/",
          "height": 158
        },
        "outputId": "9e202975-4983-45bd-d1ac-f1cdafb51d03"
      },
      "source": [
        "# We'd need to convert it into Numpy! Remember above we have converted it into tensors already\n",
        "train_data = train.train_data\n",
        "train_data = train.transform(train_data.numpy())\n",
        "\n",
        "print('[Train]')\n",
        "print(' - Numpy Shape:', train.train_data.cpu().numpy().shape)\n",
        "print(' - Tensor Shape:', train.train_data.size())\n",
        "print(' - min:', torch.min(train_data))\n",
        "print(' - max:', torch.max(train_data))\n",
        "print(' - mean:', torch.mean(train_data))\n",
        "print(' - std:', torch.std(train_data))\n",
        "print(' - var:', torch.var(train_data))\n"
      ],
      "execution_count": null,
      "outputs": [
        {
          "output_type": "stream",
          "text": [
            "[Train]\n",
            " - Numpy Shape: (60000, 28, 28)\n",
            " - Tensor Shape: torch.Size([60000, 28, 28])\n",
            " - min: tensor(-0.4242)\n",
            " - max: tensor(2.8215)\n",
            " - mean: tensor(-0.0002)\n",
            " - std: tensor(1.0000)\n",
            " - var: tensor(1.0001)\n"
          ],
          "name": "stdout"
        }
      ]
    },
    {
      "cell_type": "code",
      "metadata": {
        "id": "JimidtcEMyTz",
        "colab_type": "code",
        "colab": {
          "base_uri": "https://localhost:8080/",
          "height": 52
        },
        "outputId": "c42c4062-41de-446a-dd45-4e0149701f99"
      },
      "source": [
        "data_iter = iter(train_data_loader)\n",
        "images, labels = data_iter.next()\n",
        "print(images.shape)\n",
        "print(labels.shape)"
      ],
      "execution_count": null,
      "outputs": [
        {
          "output_type": "stream",
          "text": [
            "torch.Size([128, 1, 28, 28])\n",
            "torch.Size([128])\n"
          ],
          "name": "stdout"
        }
      ]
    },
    {
      "cell_type": "markdown",
      "metadata": {
        "id": "ahRMPQ95TWhG",
        "colab_type": "text"
      },
      "source": [
        "#### Data Visualization"
      ]
    },
    {
      "cell_type": "code",
      "metadata": {
        "id": "hSg4upeQOETC",
        "colab_type": "code",
        "colab": {
          "base_uri": "https://localhost:8080/",
          "height": 264
        },
        "outputId": "1499c4d4-e731-446c-ad9f-2ff68666b106"
      },
      "source": [
        "plt.imshow(images[1].squeeze(), cmap='gray_r')\n",
        "plt.show()"
      ],
      "execution_count": null,
      "outputs": [
        {
          "output_type": "display_data",
          "data": {
            "image/png": "[encoded data removed]",
            "text/plain": [
              "<Figure size 432x288 with 1 Axes>"
            ]
          },
          "metadata": {
            "tags": [],
            "needs_background": "light"
          }
        }
      ]
    },
    {
      "cell_type": "code",
      "metadata": {
        "id": "qOVNujvxQCrE",
        "colab_type": "code",
        "colab": {
          "base_uri": "https://localhost:8080/",
          "height": 245
        },
        "outputId": "f068949f-423f-4657-f562-002910b6d926"
      },
      "source": [
        "figure = plt.figure()\n",
        "num_images = 60\n",
        "\n",
        "for i in range(1, num_images+1):\n",
        "  plt.subplot(6,10,i)\n",
        "  plt.axis(\"off\")\n",
        "  plt.imshow(images[i].numpy().squeeze(), cmap='gray_r')"
      ],
      "execution_count": null,
      "outputs": [
        {
          "output_type": "display_data",
          "data": {
            "image/png": "[encoded data removed]",
            "text/plain": [
              "<Figure size 432x288 with 60 Axes>"
            ]
          },
          "metadata": {
            "tags": [],
            "needs_background": "light"
          }
        }
      ]
    },
    {
      "cell_type": "code",
      "metadata": {
        "id": "_6WzEveNViVE",
        "colab_type": "code",
        "colab": {
          "base_uri": "https://localhost:8080/",
          "height": 158
        },
        "outputId": "3991aea5-a35b-4608-d3d4-96461e9bbe43"
      },
      "source": [
        "# simple transform to get actual mean and std before normalizing\n",
        "simple_transforms = transforms.Compose([\n",
        "                                       transforms.ToTensor(),\n",
        "                                       ])\n",
        "exp = MNIST('./data', train=True, download=True, transform=simple_transforms)\n",
        "exp_data = exp.train_data\n",
        "exp_data = exp.transform(exp_data.numpy())\n",
        "\n",
        "print('[Train]')\n",
        "print(' - Numpy Shape:', exp.train_data.cpu().numpy().shape)\n",
        "print(' - Tensor Shape:', exp.train_data.size())\n",
        "print(' - min:', torch.min(exp_data))\n",
        "print(' - max:', torch.max(exp_data))\n",
        "print(' - mean:', torch.mean(exp_data))\n",
        "print(' - std:', torch.std(exp_data))\n",
        "print(' - var:', torch.var(exp_data))"
      ],
      "execution_count": null,
      "outputs": [
        {
          "output_type": "stream",
          "text": [
            "[Train]\n",
            " - Numpy Shape: (60000, 28, 28)\n",
            " - Tensor Shape: torch.Size([60000, 28, 28])\n",
            " - min: tensor(0.)\n",
            " - max: tensor(1.)\n",
            " - mean: tensor(0.1305)\n",
            " - std: tensor(0.3081)\n",
            " - var: tensor(0.0949)\n"
          ],
          "name": "stdout"
        }
      ]
    },
    {
      "cell_type": "markdown",
      "metadata": {
        "id": "2vDihpR2Xk8r",
        "colab_type": "text"
      },
      "source": [
        "# Model Building"
      ]
    },
    {
      "cell_type": "code",
      "metadata": {
        "id": "Jsha5oAUameX",
        "colab_type": "code",
        "colab": {}
      },
      "source": [
        "def get_receptive_field(r_in, k, j_in):\n",
        "  return r_in + (k-1)*j_in"
      ],
      "execution_count": null,
      "outputs": []
    },
    {
      "cell_type": "code",
      "metadata": {
        "id": "NhOgw7XIWaSP",
        "colab_type": "code",
        "colab": {}
      },
      "source": [
        "class Net(nn.Module):\n",
        "  def __init__(self):\n",
        "    super(Net, self).__init__()\n",
        "    self.conv1 = nn.Conv2d(in_channels=1, out_channels=32,kernel_size=3,padding=1,bias=False)   #RF - 3, Output_shape=28\n",
        "    self.conv2 = nn.Conv2d(in_channels=32, out_channels=32,kernel_size=3,padding=1,bias=False)  #RF - 5, Output_shape=28\n",
        "    self.pool1 = nn.MaxPool2d(kernel_size=2,stride=2)                                           #RF - 6, Output_shape=14\n",
        "    self.conv3 = nn.Conv2d(in_channels=32, out_channels=64,kernel_size=3,padding=1,bias=False)  #RF - 10, Output_shape=14\n",
        "    self.conv4 = nn.Conv2d(in_channels=64, out_channels=64,kernel_size=3,padding=1,bias=False)  #RF - 14, Output_shape=14\n",
        "    self.pool2 = nn.MaxPool2d(kernel_size=2,stride=2)                                           #RF - 16, Output_shape=7\n",
        "    self.conv5 = nn.Conv2d(in_channels=64, out_channels=128,kernel_size=3,padding=1,bias=False)  #RF - 24, Output_shape=7\n",
        "    self.conv6 = nn.Conv2d(in_channels=128, out_channels=128,kernel_size=3,padding=1,bias=False)  #RF - 32, Output_shape=7\n",
        "    self.conv7 = nn.Conv2d(in_channels=128, out_channels=10,kernel_size=1,bias=False)  #RF - 40, Output_shape=7\n",
        "    self.conv8 = nn.Conv2d(in_channels=10, out_channels=10,kernel_size=7,bias=False)  #RF - 48, Output_shape=1\n",
        "  def forward(self,x):\n",
        "    x = self.pool1(F.relu(self.conv2(F.relu(self.conv1(x)))))\n",
        "    x = self.pool2(F.relu(self.conv4(F.relu(self.conv3(x)))))\n",
        "    x = F.relu(self.conv7(F.relu(self.conv6(F.relu(self.conv5(x))))))\n",
        "    x = self.conv8(x)\n",
        "    x = x.view(-1,10)\n",
        "    return F.log_softmax(x, dim=-1)"
      ],
      "execution_count": null,
      "outputs": []
    },
    {
      "cell_type": "markdown",
      "metadata": {
        "id": "UBqVRevykpNE",
        "colab_type": "text"
      },
      "source": [
        "# Model parameters"
      ]
    },
    {
      "cell_type": "code",
      "metadata": {
        "id": "4UBxF2uVX_x6",
        "colab_type": "code",
        "colab": {
          "base_uri": "https://localhost:8080/",
          "height": 443
        },
        "outputId": "a04636b2-bff5-4bdf-8dbc-9f35715ec3c9"
      },
      "source": [
        "use_cuda = torch.cuda.is_available()\n",
        "device = torch.device(\"cuda\" if use_cuda else \"cpu\")\n",
        "print(device)\n",
        "model = Net().to(device)\n",
        "summary(model, input_size=(1,28,28))"
      ],
      "execution_count": null,
      "outputs": [
        {
          "output_type": "stream",
          "text": [
            "cuda\n",
            "----------------------------------------------------------------\n",
            "        Layer (type)               Output Shape         Param #\n",
            "================================================================\n",
            "            Conv2d-1           [-1, 32, 28, 28]             288\n",
            "            Conv2d-2           [-1, 32, 28, 28]           9,216\n",
            "         MaxPool2d-3           [-1, 32, 14, 14]               0\n",
            "            Conv2d-4           [-1, 64, 14, 14]          18,432\n",
            "            Conv2d-5           [-1, 64, 14, 14]          36,864\n",
            "         MaxPool2d-6             [-1, 64, 7, 7]               0\n",
            "            Conv2d-7            [-1, 128, 7, 7]          73,728\n",
            "            Conv2d-8            [-1, 128, 7, 7]         147,456\n",
            "            Conv2d-9             [-1, 10, 7, 7]           1,280\n",
            "           Conv2d-10             [-1, 10, 1, 1]           4,900\n",
            "================================================================\n",
            "Total params: 292,164\n",
            "Trainable params: 292,164\n",
            "Non-trainable params: 0\n",
            "----------------------------------------------------------------\n",
            "Input size (MB): 0.00\n",
            "Forward/backward pass size (MB): 0.75\n",
            "Params size (MB): 1.11\n",
            "Estimated Total Size (MB): 1.86\n",
            "----------------------------------------------------------------\n"
          ],
          "name": "stdout"
        }
      ]
    },
    {
      "cell_type": "markdown",
      "metadata": {
        "id": "sKbFKx4dk0ny",
        "colab_type": "text"
      },
      "source": [
        "# Training and Testing"
      ]
    },
    {
      "cell_type": "code",
      "metadata": {
        "id": "IfdvtK66bFys",
        "colab_type": "code",
        "colab": {}
      },
      "source": [
        "from tqdm import tqdm\n",
        "\n",
        "train_losses = []\n",
        "test_losses = []\n",
        "train_acc = []\n",
        "test_acc = []\n",
        "\n",
        "def train(model, device, train_loader, optimizer, epoch):\n",
        "  model.train()\n",
        "  pbar = tqdm(train_loader)\n",
        "  correct = 0\n",
        "  processed = 0\n",
        "  for batch_idx, (data, target) in enumerate(pbar):\n",
        "    # get samples\n",
        "    data, target = data.to(device), target.to(device)\n",
        "\n",
        "    # Init\n",
        "    optimizer.zero_grad()\n",
        "    # In PyTorch, we need to set the gradients to zero before starting to do backpropragation because PyTorch accumulates the gradients on subsequent backward passes. \n",
        "    # Because of this, when you start your training loop, ideally you should zero out the gradients so that you do the parameter update correctly.\n",
        "\n",
        "    # Predict\n",
        "    y_pred = model(data)\n",
        "\n",
        "    # Calculate loss\n",
        "    loss = F.nll_loss(y_pred, target)\n",
        "    train_losses.append(loss)\n",
        "\n",
        "    # Backpropagation\n",
        "    loss.backward()\n",
        "    optimizer.step()\n",
        "\n",
        "    # Update pbar-tqdm\n",
        "    \n",
        "    pred = y_pred.argmax(dim=1, keepdim=True)  # get the index of the max log-probability\n",
        "    correct += pred.eq(target.view_as(pred)).sum().item()\n",
        "    processed += len(data)\n",
        "\n",
        "    pbar.set_description(desc= f'Loss={loss.item()} Batch_id={batch_idx} Accuracy={100*correct/processed:0.2f}')\n",
        "    train_acc.append(100*correct/processed)\n",
        "\n",
        "def test(model, device, test_loader):\n",
        "    model.eval()\n",
        "    test_loss = 0\n",
        "    correct = 0\n",
        "    with torch.no_grad():\n",
        "        for data, target in test_loader:\n",
        "            data, target = data.to(device), target.to(device)\n",
        "            output = model(data)\n",
        "            test_loss += F.nll_loss(output, target, reduction='sum').item()  # sum up batch loss\n",
        "            pred = output.argmax(dim=1, keepdim=True)  # get the index of the max log-probability\n",
        "            correct += pred.eq(target.view_as(pred)).sum().item()\n",
        "\n",
        "    test_loss /= len(test_loader.dataset)\n",
        "    test_losses.append(test_loss)\n",
        "\n",
        "    print('\\nTest set: Average loss: {:.4f}, Accuracy: {}/{} ({:.2f}%)\\n'.format(\n",
        "        test_loss, correct, len(test_loader.dataset),\n",
        "        100. * correct / len(test_loader.dataset)))\n",
        "    \n",
        "    test_acc.append(100. * correct / len(test_loader.dataset))"
      ],
      "execution_count": null,
      "outputs": []
    },
    {
      "cell_type": "markdown",
      "metadata": {
        "id": "pFet3SAvndAT",
        "colab_type": "text"
      },
      "source": [
        "# Let's train and test the model"
      ]
    },
    {
      "cell_type": "code",
      "metadata": {
        "id": "65VFzq_QnOP2",
        "colab_type": "code",
        "colab": {
          "base_uri": "https://localhost:8080/",
          "height": 1000
        },
        "outputId": "be8cdd6e-a320-4085-ce59-123ae4cfe8fe"
      },
      "source": [
        "model =  Net().to(device)\n",
        "optimizer = optim.SGD(model.parameters(), lr=0.01, momentum=0.9)\n",
        "EPOCHS = 14\n",
        "for epoch in range(EPOCHS):\n",
        "    print(f\" ***** EPOCH:{epoch} ***** \")\n",
        "    train(model, device, train_data_loader, optimizer, epoch)\n",
        "    test(model, device, test_data_loader)"
      ],
      "execution_count": null,
      "outputs": [
        {
          "output_type": "stream",
          "text": [
            "\r  0%|          | 0/469 [00:00<?, ?it/s]"
          ],
          "name": "stderr"
        },
        {
          "output_type": "stream",
          "text": [
            " ***** EPOCH:0 ***** \n"
          ],
          "name": "stdout"
        },
        {
          "output_type": "stream",
          "text": [
            "Loss=0.12835855782032013 Batch_id=468 Accuracy=67.06: 100%|██████████| 469/469 [00:10<00:00, 44.91it/s]\n",
            "  0%|          | 0/469 [00:00<?, ?it/s]"
          ],
          "name": "stderr"
        },
        {
          "output_type": "stream",
          "text": [
            "\n",
            "Test set: Average loss: 0.1142, Accuracy: 9642/10000 (96.42%)\n",
            "\n",
            " ***** EPOCH:1 ***** \n"
          ],
          "name": "stdout"
        },
        {
          "output_type": "stream",
          "text": [
            "Loss=0.12424444407224655 Batch_id=468 Accuracy=97.23: 100%|██████████| 469/469 [00:10<00:00, 44.98it/s]\n",
            "  0%|          | 0/469 [00:00<?, ?it/s]"
          ],
          "name": "stderr"
        },
        {
          "output_type": "stream",
          "text": [
            "\n",
            "Test set: Average loss: 0.0599, Accuracy: 9816/10000 (98.16%)\n",
            "\n",
            " ***** EPOCH:2 ***** \n"
          ],
          "name": "stdout"
        },
        {
          "output_type": "stream",
          "text": [
            "Loss=0.024555064737796783 Batch_id=468 Accuracy=98.16: 100%|██████████| 469/469 [00:10<00:00, 44.44it/s]\n",
            "  0%|          | 0/469 [00:00<?, ?it/s]"
          ],
          "name": "stderr"
        },
        {
          "output_type": "stream",
          "text": [
            "\n",
            "Test set: Average loss: 0.0405, Accuracy: 9857/10000 (98.57%)\n",
            "\n",
            " ***** EPOCH:3 ***** \n"
          ],
          "name": "stdout"
        },
        {
          "output_type": "stream",
          "text": [
            "Loss=0.027536317706108093 Batch_id=468 Accuracy=98.64: 100%|██████████| 469/469 [00:10<00:00, 45.52it/s]\n",
            "  0%|          | 0/469 [00:00<?, ?it/s]"
          ],
          "name": "stderr"
        },
        {
          "output_type": "stream",
          "text": [
            "\n",
            "Test set: Average loss: 0.0393, Accuracy: 9883/10000 (98.83%)\n",
            "\n",
            " ***** EPOCH:4 ***** \n"
          ],
          "name": "stdout"
        },
        {
          "output_type": "stream",
          "text": [
            "Loss=0.04170045629143715 Batch_id=468 Accuracy=98.85: 100%|██████████| 469/469 [00:10<00:00, 45.50it/s]\n",
            "  0%|          | 0/469 [00:00<?, ?it/s]"
          ],
          "name": "stderr"
        },
        {
          "output_type": "stream",
          "text": [
            "\n",
            "Test set: Average loss: 0.0401, Accuracy: 9884/10000 (98.84%)\n",
            "\n",
            " ***** EPOCH:5 ***** \n"
          ],
          "name": "stdout"
        },
        {
          "output_type": "stream",
          "text": [
            "Loss=0.013777335174381733 Batch_id=468 Accuracy=99.06: 100%|██████████| 469/469 [00:10<00:00, 45.10it/s]\n",
            "  0%|          | 0/469 [00:00<?, ?it/s]"
          ],
          "name": "stderr"
        },
        {
          "output_type": "stream",
          "text": [
            "\n",
            "Test set: Average loss: 0.0307, Accuracy: 9898/10000 (98.98%)\n",
            "\n",
            " ***** EPOCH:6 ***** \n"
          ],
          "name": "stdout"
        },
        {
          "output_type": "stream",
          "text": [
            "Loss=0.03118482045829296 Batch_id=468 Accuracy=99.18: 100%|██████████| 469/469 [00:10<00:00, 46.30it/s]\n",
            "  0%|          | 0/469 [00:00<?, ?it/s]"
          ],
          "name": "stderr"
        },
        {
          "output_type": "stream",
          "text": [
            "\n",
            "Test set: Average loss: 0.0332, Accuracy: 9899/10000 (98.99%)\n",
            "\n",
            " ***** EPOCH:7 ***** \n"
          ],
          "name": "stdout"
        },
        {
          "output_type": "stream",
          "text": [
            "Loss=0.024587107822299004 Batch_id=468 Accuracy=99.33: 100%|██████████| 469/469 [00:10<00:00, 44.03it/s]\n",
            "  0%|          | 0/469 [00:00<?, ?it/s]"
          ],
          "name": "stderr"
        },
        {
          "output_type": "stream",
          "text": [
            "\n",
            "Test set: Average loss: 0.0309, Accuracy: 9901/10000 (99.01%)\n",
            "\n",
            " ***** EPOCH:8 ***** \n"
          ],
          "name": "stdout"
        },
        {
          "output_type": "stream",
          "text": [
            "Loss=0.015131550841033459 Batch_id=468 Accuracy=99.43: 100%|██████████| 469/469 [00:10<00:00, 43.30it/s]\n",
            "  0%|          | 0/469 [00:00<?, ?it/s]"
          ],
          "name": "stderr"
        },
        {
          "output_type": "stream",
          "text": [
            "\n",
            "Test set: Average loss: 0.0344, Accuracy: 9903/10000 (99.03%)\n",
            "\n",
            " ***** EPOCH:9 ***** \n"
          ],
          "name": "stdout"
        },
        {
          "output_type": "stream",
          "text": [
            "Loss=0.03819703683257103 Batch_id=468 Accuracy=99.55: 100%|██████████| 469/469 [00:10<00:00, 43.68it/s]\n",
            "  0%|          | 0/469 [00:00<?, ?it/s]"
          ],
          "name": "stderr"
        },
        {
          "output_type": "stream",
          "text": [
            "\n",
            "Test set: Average loss: 0.0390, Accuracy: 9895/10000 (98.95%)\n",
            "\n",
            " ***** EPOCH:10 ***** \n"
          ],
          "name": "stdout"
        },
        {
          "output_type": "stream",
          "text": [
            "Loss=0.01556064561009407 Batch_id=468 Accuracy=99.58: 100%|██████████| 469/469 [00:10<00:00, 46.38it/s]\n",
            "  0%|          | 0/469 [00:00<?, ?it/s]"
          ],
          "name": "stderr"
        },
        {
          "output_type": "stream",
          "text": [
            "\n",
            "Test set: Average loss: 0.0318, Accuracy: 9901/10000 (99.01%)\n",
            "\n",
            " ***** EPOCH:11 ***** \n"
          ],
          "name": "stdout"
        },
        {
          "output_type": "stream",
          "text": [
            "Loss=0.005259449128061533 Batch_id=468 Accuracy=99.63: 100%|██████████| 469/469 [00:10<00:00, 44.50it/s]\n",
            "  0%|          | 0/469 [00:00<?, ?it/s]"
          ],
          "name": "stderr"
        },
        {
          "output_type": "stream",
          "text": [
            "\n",
            "Test set: Average loss: 0.0369, Accuracy: 9897/10000 (98.97%)\n",
            "\n",
            " ***** EPOCH:12 ***** \n"
          ],
          "name": "stdout"
        },
        {
          "output_type": "stream",
          "text": [
            "Loss=0.006665520835667849 Batch_id=468 Accuracy=99.62: 100%|██████████| 469/469 [00:10<00:00, 43.82it/s]\n",
            "  0%|          | 0/469 [00:00<?, ?it/s]"
          ],
          "name": "stderr"
        },
        {
          "output_type": "stream",
          "text": [
            "\n",
            "Test set: Average loss: 0.0330, Accuracy: 9908/10000 (99.08%)\n",
            "\n",
            " ***** EPOCH:13 ***** \n"
          ],
          "name": "stdout"
        },
        {
          "output_type": "stream",
          "text": [
            "Loss=0.006740722339600325 Batch_id=468 Accuracy=99.73: 100%|██████████| 469/469 [00:10<00:00, 44.37it/s]\n"
          ],
          "name": "stderr"
        },
        {
          "output_type": "stream",
          "text": [
            "\n",
            "Test set: Average loss: 0.0416, Accuracy: 9895/10000 (98.95%)\n",
            "\n"
          ],
          "name": "stdout"
        }
      ]
    },
    {
      "cell_type": "markdown",
      "metadata": {
        "id": "7VmP6CW3nrnY",
        "colab_type": "text"
      },
      "source": [
        "# Model results analysis"
      ]
    },
    {
      "cell_type": "code",
      "metadata": {
        "id": "OUXAmUIWnpDR",
        "colab_type": "code",
        "colab": {
          "base_uri": "https://localhost:8080/",
          "height": 624
        },
        "outputId": "3513363a-6e9f-4198-db1a-4cb334399c08"
      },
      "source": [
        "fig, axs = plt.subplots(2,2,figsize=(15,10))\n",
        "axs[0, 0].plot(train_losses)\n",
        "axs[0, 0].set_title(\"Training Loss\")\n",
        "axs[1, 0].plot(train_acc)\n",
        "axs[1, 0].set_title(\"Training Accuracy\")\n",
        "axs[0, 1].plot(test_losses)\n",
        "axs[0, 1].set_title(\"Test Loss\")\n",
        "axs[1, 1].plot(test_acc)\n",
        "axs[1, 1].set_title(\"Test Accuracy\")"
      ],
      "execution_count": null,
      "outputs": [
        {
          "output_type": "execute_result",
          "data": {
            "text/plain": [
              "Text(0.5, 1.0, 'Test Accuracy')"
            ]
          },
          "metadata": {
            "tags": []
          },
          "execution_count": 57
        },
        {
          "output_type": "display_data",
          "data": {
            "image/png": "[encoded data removed]",
            "text/plain": [
              "<Figure size 1080x720 with 4 Axes>"
            ]
          },
          "metadata": {
            "tags": [],
            "needs_background": "light"
          }
        }
      ]
    },
    {
      "cell_type": "code",
      "metadata": {
        "id": "6W9x7gofoEu3",
        "colab_type": "code",
        "colab": {}
      },
      "source": [
        ""
      ],
      "execution_count": null,
      "outputs": []
    }
  ]
}